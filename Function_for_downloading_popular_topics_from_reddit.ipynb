{
 "cells": [
  {
   "cell_type": "markdown",
   "metadata": {},
   "source": [
    "Create function reddit for downloading popular topics from www.reddir.org using closure and generator."
   ]
  },
  {
   "cell_type": "raw",
   "metadata": {},
   "source": [
    "E.g. reddit returns function which returns generator over titles from reddit page:\n",
    "\n",
    ">>> python = reddit(“http://www.reddit.com/r/python.json”)\n",
    ">>> golang = reddit(“http://www.reddit.com/r/golang.json”)\n",
    ">>> for title in python():  # here json data is fetched\n",
    "...    print repr(title)\n",
    "u'Porting to Python 3 book is on github'\n",
    "u'An Overview of using WebSockets in Python'\n",
    "- // -\n",
    ">>> for title in golang():  # here json data is fetched\n",
    "...     print title\n",
    "- // -"
   ]
  },
  {
   "cell_type": "code",
   "execution_count": 1,
   "metadata": {
    "collapsed": true
   },
   "outputs": [],
   "source": [
    "import urllib, json"
   ]
  },
  {
   "cell_type": "code",
   "execution_count": 15,
   "metadata": {
    "collapsed": true
   },
   "outputs": [],
   "source": [
    "def reddit(url):\n",
    "    response = urllib.urlopen(url)\n",
    "    data = json.loads(response.read())\n",
    "    print data"
   ]
  },
  {
   "cell_type": "code",
   "execution_count": 20,
   "metadata": {
    "collapsed": false,
    "scrolled": true
   },
   "outputs": [
    {
     "name": "stdout",
     "output_type": "stream",
     "text": [
      "{u'error': 429}\n"
     ]
    }
   ],
   "source": [
    "golang = reddit(\"http://www.reddit.com/r/golang.json\")"
   ]
  },
  {
   "cell_type": "code",
   "execution_count": null,
   "metadata": {
    "collapsed": true
   },
   "outputs": [],
   "source": []
  },
  {
   "cell_type": "code",
   "execution_count": null,
   "metadata": {
    "collapsed": true
   },
   "outputs": [],
   "source": []
  },
  {
   "cell_type": "code",
   "execution_count": null,
   "metadata": {
    "collapsed": true
   },
   "outputs": [],
   "source": []
  }
 ],
 "metadata": {
  "kernelspec": {
   "display_name": "Python 2",
   "language": "python",
   "name": "python2"
  },
  "language_info": {
   "codemirror_mode": {
    "name": "ipython",
    "version": 2
   },
   "file_extension": ".py",
   "mimetype": "text/x-python",
   "name": "python",
   "nbconvert_exporter": "python",
   "pygments_lexer": "ipython2",
   "version": "2.7.10"
  }
 },
 "nbformat": 4,
 "nbformat_minor": 0
}
